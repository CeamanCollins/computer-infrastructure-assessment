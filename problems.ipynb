{
 "cells": [
  {
   "cell_type": "markdown",
   "id": "4e4ee7bf",
   "metadata": {},
   "source": [
    "# Computer Infrastructure Problems\n",
    "\n",
    "This notebook covers the problems covered in the ATU module Computer Infrastructure."
   ]
  },
  {
   "cell_type": "markdown",
   "id": "340ba850",
   "metadata": {},
   "source": [
    "## Problem 1"
   ]
  }
 ],
 "metadata": {
  "language_info": {
   "name": "python"
  }
 },
 "nbformat": 4,
 "nbformat_minor": 5
}
