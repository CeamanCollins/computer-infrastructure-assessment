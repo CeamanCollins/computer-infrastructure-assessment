{
 "cells": [
  {
   "cell_type": "markdown",
   "id": "4e4ee7bf",
   "metadata": {},
   "source": [
    "# Computer Infrastructure Problems\n",
    "\n",
    "This notebook covers the problems covered in the ATU module Computer Infrastructure."
   ]
  },
  {
   "cell_type": "markdown",
   "id": "340ba850",
   "metadata": {},
   "source": [
    "## Problem 1: Extending the Lady Tasting Tea\n",
    "\n",
    "In this section I will be extending the Lady Tasting Tea experiment to determine whether I would consider extending or relaxing the p-value threshold compared to the original design.\n",
    "\n",
    "I will do this by creating a new experiment using 12 cups: 8 that had the tea added first and 4 with the milk added first. Then I will simulate an experiment using `numpy` by randomly shuffling the cups many times and calculating the probability of the participant identifying all cups by chance and comparing my result with the original 8-cup experiment."
   ]
  }
 ],
 "metadata": {
  "language_info": {
   "name": "python"
  }
 },
 "nbformat": 4,
 "nbformat_minor": 5
}
